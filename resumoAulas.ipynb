{
 "cells": [
  {
   "cell_type": "markdown",
   "metadata": {},
   "source": [
    "# Estruturas Condicionais \n",
    "Não só as variáveis são capazes de solucionar problemas comuns em Data Science. Por exemplo, podemos precisar categorizar, conforme a média que receberemos de determinado estudante, se ele está em condição de aprovação ou reprovação. Para essa solução, podemos utilizar Estruturas Condicionais que permitem executar instruções a partir de determinada condição. \n",
    "\n",
    "SE: instruções caso a condição seja VERDADEIRA. Ex.: se a média de notas for igual ou maior que 6, a instrução é estudante aprovado (SE media >= 6, então, estudante aprovado)\n",
    "\n",
    "SE NÃO: instruções caso a condição seja FALSA. Ex: se a média de notas for menor que 6, a instrução é estudante reprovado (SE media < 6, então, estudante reprovado)"
   ]
  },
  {
   "cell_type": "code",
   "execution_count": 2,
   "metadata": {},
   "outputs": [
    {
     "name": "stdout",
     "output_type": "stream",
     "text": [
      "condição verdadeira\n"
     ]
    }
   ],
   "source": [
    "if 3<6:\n",
    "    print('condição verdadeira');"
   ]
  },
  {
   "cell_type": "code",
   "execution_count": 2,
   "metadata": {},
   "outputs": [
    {
     "name": "stdout",
     "output_type": "stream",
     "text": [
      "Estudante reprovado(a)\n"
     ]
    }
   ],
   "source": [
    "#Categorização: média de notas\n",
    "media = float(input('Digite a média do aluno: '))\n",
    "\n",
    "if media >= 6.0:\n",
    "    print('Estudante aprovado(a)')\n",
    "else:\n",
    "    print('Estudante reprovado(a)')"
   ]
  }
 ],
 "metadata": {
  "kernelspec": {
   "display_name": "venv",
   "language": "python",
   "name": "python3"
  },
  "language_info": {
   "codemirror_mode": {
    "name": "ipython",
    "version": 3
   },
   "file_extension": ".py",
   "mimetype": "text/x-python",
   "name": "python",
   "nbconvert_exporter": "python",
   "pygments_lexer": "ipython3",
   "version": "3.11.9"
  }
 },
 "nbformat": 4,
 "nbformat_minor": 2
}
