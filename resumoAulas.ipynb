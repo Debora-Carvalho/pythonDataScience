{
 "cells": [
  {
   "cell_type": "markdown",
   "metadata": {},
   "source": [
    "# Estruturas Condicionais \n",
    "# IF, ELSE, ELIF\n",
    "\n",
    "Não só as variáveis são capazes de solucionar problemas comuns em Data Science. Por exemplo, podemos precisar categorizar, conforme a média que receberemos de determinado estudante, se ele está em condição de aprovação ou reprovação. Para essa solução, podemos utilizar Estruturas Condicionais que permitem executar instruções a partir de determinada condição. \n",
    "\n",
    "SE: instruções caso a condição seja VERDADEIRA. Ex.: se a média de notas for igual ou maior que 6, a instrução é estudante aprovado (SE media >= 6, então, estudante aprovado)\n",
    "\n",
    "SE NÃO: instruções caso a condição seja FALSA. Ex: se a média de notas for menor que 6, a instrução é estudante reprovado (SE media < 6, então, estudante reprovado)"
   ]
  },
  {
   "cell_type": "code",
   "execution_count": 2,
   "metadata": {},
   "outputs": [
    {
     "name": "stdout",
     "output_type": "stream",
     "text": [
      "condição verdadeira\n"
     ]
    }
   ],
   "source": [
    "if 3<6:\n",
    "    print('condição verdadeira');"
   ]
  },
  {
   "cell_type": "code",
   "execution_count": 2,
   "metadata": {},
   "outputs": [
    {
     "name": "stdout",
     "output_type": "stream",
     "text": [
      "Estudante reprovado(a)\n"
     ]
    }
   ],
   "source": [
    "# média de notas\n",
    "media = float(input('Digite a média do aluno: '))\n",
    "\n",
    "if media >= 6.0:\n",
    "    print('Estudante aprovado(a)')\n",
    "else:\n",
    "    print('Estudante reprovado(a)')"
   ]
  },
  {
   "cell_type": "code",
   "execution_count": null,
   "metadata": {},
   "outputs": [
    {
     "name": "stdout",
     "output_type": "stream",
     "text": [
      "Estudante em recuperação\n"
     ]
    }
   ],
   "source": [
    "# estrutura condicional em cadeia \n",
    "media = float(input('Digite a média do aluno: '))\n",
    "\n",
    "if media >= 6.0:\n",
    "    print('Estudante aprovado(a)')\n",
    "if 6.0 > media >= 4.0:\n",
    "    print('Estudante em recuperação')\n",
    "if media < 4.0:\n",
    "    print('Estudante reprovado(a)')"
   ]
  },
  {
   "cell_type": "code",
   "execution_count": 6,
   "metadata": {},
   "outputs": [
    {
     "name": "stdout",
     "output_type": "stream",
     "text": [
      "Estudante em recuperação\n"
     ]
    }
   ],
   "source": [
    "# estrutura ELIF, \"senão,se\"\n",
    "media = float(input('Digite a média do aluno: '))\n",
    "\n",
    "if media >= 6.0:\n",
    "    print('Estudante aprovado(a)')\n",
    "elif 6.0 > media >= 4.0:\n",
    "    print('Estudante em recuperação')\n",
    "else:\n",
    "    print('Estudante reprovado(a)')"
   ]
  },
  {
   "cell_type": "markdown",
   "metadata": {},
   "source": [
    "Ao utilizar uma estrutura ELIF, não é obrigatório utilizar o ELSE ao final, mas sempre é necessário utilizar um IF no início. O ELSE é opcional quando se utiliza apenas o IF."
   ]
  },
  {
   "cell_type": "markdown",
   "metadata": {},
   "source": [
    "Operandos lógicos: elementos que são comparados ou avaliados em uma expressão lógica e vão retornar True ou False.\n",
    "\n",
    "Operadores lógicos: símbolos ou palavras-chaves que são usados para combinar operandos lógicos em uma única expressão.\n",
    "\n",
    "Em Python, os operadores lógicos são and, or e not, bem como as palavras-chaves IF, ELIF e ELSE."
   ]
  },
  {
   "cell_type": "code",
   "execution_count": 7,
   "metadata": {},
   "outputs": [],
   "source": [
    "t1 = t2 = True\n",
    "f1 = f2 = False"
   ]
  },
  {
   "cell_type": "code",
   "execution_count": 9,
   "metadata": {},
   "outputs": [
    {
     "name": "stdout",
     "output_type": "stream",
     "text": [
      "Expressão falsa\n"
     ]
    }
   ],
   "source": [
    "# operador lógico AND \n",
    "if t1 and f2:\n",
    "    print('Expressão verdadeira')\n",
    "else:\n",
    "    print('Expressão falsa')"
   ]
  },
  {
   "cell_type": "code",
   "execution_count": 10,
   "metadata": {},
   "outputs": [
    {
     "name": "stdout",
     "output_type": "stream",
     "text": [
      "Expressão falsa\n"
     ]
    }
   ],
   "source": [
    "# operador lógico OR \n",
    "if f1 or f2:\n",
    "    print('Expressão verdadeira')\n",
    "else:\n",
    "    print('Expressão falsa')"
   ]
  },
  {
   "cell_type": "code",
   "execution_count": 12,
   "metadata": {},
   "outputs": [
    {
     "name": "stdout",
     "output_type": "stream",
     "text": [
      "Expressão verdadeira\n"
     ]
    }
   ],
   "source": [
    "# operador lógico NOT \n",
    "if not f2:\n",
    "    print('Expressão verdadeira')\n",
    "else:\n",
    "    print('Expressão falsa')"
   ]
  },
  {
   "cell_type": "markdown",
   "metadata": {},
   "source": [
    "# Operador IN: \n",
    "Verifica se, por exemplo uma palavra está dentro de um texto\n",
    "\n",
    "**Situação:**\n",
    "\n",
    "Na escola foi passada uma lista com nomes de estudantes que foram aprovados por média no semestre, mas é preciso verificar se alguns nomes estão nessa lista para verificar se os dados estão corretos.\n",
    "\n",
    "A lista distribuida pode ser observada abaixo:\n",
    "\n",
    "```\n",
    "lista = 'José da Silva, Maria Oliveira, Pedro Martins, Ana Souza, Carlos Rodrigues, Juliana Santos, Bruno Gomes, Beatriz Costa, Felipe Almeida, Mariana Fernandes, João Pinto, Luísa Nascimento, Gabriel Souza, Manuela Santos, Thiago Oliveira, Sofia Ferreira, Rafael Albuquerque, Isabella Gomes, Bruno Costa, Maria Martins, Rafaela Souza, Matheus Fernandes, Luísa Almeida, Beatriz Pinto, Mariana Rodrigues, Gabriel Nascimento, João Ferreira, Maria Albuquerque, Felipe Oliveira\n",
    "'\n",
    "```\n",
    "\n",
    "Os nomes que precisam ser verificados são os seguintes:\n",
    "\n",
    "```\n",
    "nome_1 = 'Mariana Rodrigues'\n",
    "nome_2 = 'Marcelo Nogueira'\n",
    "```"
   ]
  },
  {
   "cell_type": "code",
   "execution_count": 13,
   "metadata": {},
   "outputs": [
    {
     "data": {
      "text/plain": [
       "'José da Silva, Maria Oliveira, Pedro Martins, Ana Souza, Carlos Rodrigues, Juliana Santos, Bruno Gomes, Beatriz Costa, Felipe Almeida, Mariana Fernandes, João Pinto, Luísa Nascimento, Gabriel Souza, Manuela Santos, Thiago Oliveira, Sofia Ferreira, Rafael Albuquerque, Isabella Gomes, Bruno Costa, Maria Martins, Rafaela Souza, Matheus Fernandes, Luísa Almeida, Beatriz Pinto, Mariana Rodrigues, Gabriel Nascimento, João Ferreira, Maria Albuquerque, Felipe Oliveira'"
      ]
     },
     "execution_count": 13,
     "metadata": {},
     "output_type": "execute_result"
    }
   ],
   "source": [
    "lista = 'José da Silva, Maria Oliveira, Pedro Martins, Ana Souza, Carlos Rodrigues, Juliana Santos, Bruno Gomes, Beatriz Costa, Felipe Almeida, Mariana Fernandes, João Pinto, Luísa Nascimento, Gabriel Souza, Manuela Santos, Thiago Oliveira, Sofia Ferreira, Rafael Albuquerque, Isabella Gomes, Bruno Costa, Maria Martins, Rafaela Souza, Matheus Fernandes, Luísa Almeida, Beatriz Pinto, Mariana Rodrigues, Gabriel Nascimento, João Ferreira, Maria Albuquerque, Felipe Oliveira'\n",
    "lista"
   ]
  },
  {
   "cell_type": "code",
   "execution_count": 14,
   "metadata": {},
   "outputs": [],
   "source": [
    "nome_1 = 'Mariana Rodrigues'\n",
    "nome_2 = 'Marcelo Nogueira'"
   ]
  },
  {
   "cell_type": "code",
   "execution_count": 16,
   "metadata": {},
   "outputs": [
    {
     "name": "stdout",
     "output_type": "stream",
     "text": [
      "Mariana Rodrigues está na lista!\n"
     ]
    }
   ],
   "source": [
    "if nome_1 in lista:\n",
    "    print(f'{nome_1} está na lista!')\n",
    "else:\n",
    "    print(f'{nome_1} não está na lista!')"
   ]
  },
  {
   "cell_type": "code",
   "execution_count": 17,
   "metadata": {},
   "outputs": [
    {
     "name": "stdout",
     "output_type": "stream",
     "text": [
      "Marcelo Nogueira não está na lista!\n"
     ]
    }
   ],
   "source": [
    "if nome_2 in lista:\n",
    "    print(f'{nome_2} está na lista!')\n",
    "else:\n",
    "    print(f'{nome_2} não está na lista!')"
   ]
  }
 ],
 "metadata": {
  "kernelspec": {
   "display_name": "venv",
   "language": "python",
   "name": "python3"
  },
  "language_info": {
   "codemirror_mode": {
    "name": "ipython",
    "version": 3
   },
   "file_extension": ".py",
   "mimetype": "text/x-python",
   "name": "python",
   "nbconvert_exporter": "python",
   "pygments_lexer": "ipython3",
   "version": "3.11.9"
  }
 },
 "nbformat": 4,
 "nbformat_minor": 2
}
