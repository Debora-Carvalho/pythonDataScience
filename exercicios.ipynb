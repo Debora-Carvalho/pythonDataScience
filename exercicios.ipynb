{
 "cells": [
  {
   "cell_type": "markdown",
   "metadata": {
    "id": "_kwAaQ36gLQ1"
   },
   "source": [
    "# Sobre o notebook\n",
    "\n",
    "A \"hora da prática\" é uma atividade do curso de Python para Data Science da Alura que contém diversos desafios envolvendo os aprendizados de cada aula.\n",
    "\n",
    "O notebook \"hora da pratica\" é um notebook construído com espaço para as células dos desafios propostos no curso, com ele você tem espaço para construir e executar suas soluções"
   ]
  },
  {
   "cell_type": "markdown",
   "metadata": {
    "id": "Mc-KN0dA0Z83"
   },
   "source": [
    "## Aula 1 - Introdução ao Python"
   ]
  },
  {
   "cell_type": "markdown",
   "metadata": {
    "id": "l5eLWf0W0ikn"
   },
   "source": [
    "### Questão 1\n",
    "\n",
    "Imprima a frase `Escola de Dados da Alura!`"
   ]
  },
  {
   "cell_type": "code",
   "execution_count": 1,
   "metadata": {
    "id": "5pllxJ0h0-yA"
   },
   "outputs": [
    {
     "name": "stdout",
     "output_type": "stream",
     "text": [
      "Escola de Dados da Alura!\n"
     ]
    }
   ],
   "source": [
    "print('Escola de Dados da Alura!')"
   ]
  },
  {
   "cell_type": "markdown",
   "metadata": {
    "id": "tQdX90Ue03c7"
   },
   "source": [
    "### Questão 2\n",
    "Imprima na tela seu nome e seu sobrenome seguindo a estrutura abaixo:\n",
    "```\n",
    "Nome: [seu nome]\n",
    "Sobrenome: [seu sobrenome]\n",
    "```\n"
   ]
  },
  {
   "cell_type": "code",
   "execution_count": 2,
   "metadata": {
    "id": "RVw5iKn20_Ps"
   },
   "outputs": [
    {
     "name": "stdout",
     "output_type": "stream",
     "text": [
      "Nome: Débora\n",
      "Sobrenome: Carvalho\n"
     ]
    }
   ],
   "source": [
    "print('Nome: Débora\\nSobrenome: Carvalho')"
   ]
  },
  {
   "cell_type": "markdown",
   "metadata": {
    "id": "gfg-aiip03vC"
   },
   "source": [
    "### Questão 3\n",
    "Imprima o seu primeiro nome letra a letra. Por exemplo, nome é Mirla, então eu obtenho a seguinte saída:\n",
    "```\n",
    "M\n",
    "I\n",
    "R\n",
    "L\n",
    "A\n",
    "```\n"
   ]
  },
  {
   "cell_type": "code",
   "execution_count": 3,
   "metadata": {
    "id": "v5bkrgf60_qx"
   },
   "outputs": [
    {
     "name": "stdout",
     "output_type": "stream",
     "text": [
      "D\n",
      "E\n",
      "B\n",
      "O\n",
      "R\n",
      "A\n"
     ]
    }
   ],
   "source": [
    "print('D\\nE\\nB\\nO\\nR\\nA')"
   ]
  },
  {
   "cell_type": "markdown",
   "metadata": {
    "id": "oadrJbl704MM"
   },
   "source": [
    "### Questão 4\n",
    "Imprima o dia do seu nascimento em formato `dia mês ano`. Os valores de dia e ano não podem estar entre aspas. O formato deve estar como no exemplo, supondo uma data de aniversário dia 28 de fevereiro de 2003:\n",
    "```\n",
    "28 fevereiro 2003\n",
    "```"
   ]
  },
  {
   "cell_type": "code",
   "execution_count": 7,
   "metadata": {
    "id": "cx0KSsrq1ALD"
   },
   "outputs": [
    {
     "name": "stdout",
     "output_type": "stream",
     "text": [
      "13 maio 2003\n"
     ]
    }
   ],
   "source": [
    "print(13, 'maio', 2003)"
   ]
  },
  {
   "cell_type": "markdown",
   "metadata": {
    "id": "3RgyMaan04TD"
   },
   "source": [
    "### Questão 5\n",
    "Imprima em um único print o atual ano que você está fazendo esse curso, o valor do ano deve ser um dado numérico. A saída do print deve ser a seguinte:\n",
    "```\n",
    "Ano atual: [ano]\n",
    "```\n"
   ]
  },
  {
   "cell_type": "code",
   "execution_count": null,
   "metadata": {
    "id": "UN77EfQ2d36Y"
   },
   "outputs": [],
   "source": [
    "print('Ano atual: 2024')"
   ]
  },
  {
   "cell_type": "markdown",
   "metadata": {
    "id": "D9e3FqhO1S3X"
   },
   "source": [
    "## Aula 2 - Manipulando dados no Python"
   ]
  },
  {
   "cell_type": "markdown",
   "metadata": {
    "id": "n6o7C1Ze2cRe"
   },
   "source": [
    "### Coleta e amostragem de dados"
   ]
  },
  {
   "cell_type": "markdown",
   "metadata": {
    "id": "sRneWag9PV5Q"
   },
   "source": [
    "#### Questão 1\n",
    "Crie um programa que solicite à pessoa usuária digitar seu nome, e imprima “Olá, [nome]!”."
   ]
  },
  {
   "cell_type": "code",
   "execution_count": 11,
   "metadata": {
    "id": "dbX1fKqy2HnE"
   },
   "outputs": [
    {
     "name": "stdout",
     "output_type": "stream",
     "text": [
      "Olá, Debora!\n"
     ]
    }
   ],
   "source": [
    "nome = str(input('Digite o seu nome: '))\n",
    "print(f'Olá, {nome}!')"
   ]
  },
  {
   "cell_type": "markdown",
   "metadata": {
    "id": "BJ1SznEp70d5"
   },
   "source": [
    "#### Questão 2\n",
    "Crie um programa que solicite à pessoa usuária digitar seu nome e idade, e imprima “Olá, [nome], você tem [idade] anos.”."
   ]
  },
  {
   "cell_type": "code",
   "execution_count": 13,
   "metadata": {
    "id": "jKz-0Sq8PFkp"
   },
   "outputs": [
    {
     "name": "stdout",
     "output_type": "stream",
     "text": [
      "Olá, Debora, você tem 12 anos.\n"
     ]
    }
   ],
   "source": [
    "nome = str(input('Digite o seu nome: '))\n",
    "idade = int(input('Digite a sua idade: '))\n",
    "print(f'Olá, {nome}, você tem {idade} anos.')"
   ]
  },
  {
   "cell_type": "markdown",
   "metadata": {
    "id": "2T0jNYZt70aa"
   },
   "source": [
    "#### Questão 3\n",
    "Crie um programa que solicite à pessoa usuária digitar seu nome, idade e altura em metros, e imprima “Olá, [nome], você tem [idade] anos e mede [altura] metros!”."
   ]
  },
  {
   "cell_type": "code",
   "execution_count": 14,
   "metadata": {
    "id": "pI4kHNzTPIXh"
   },
   "outputs": [
    {
     "name": "stdout",
     "output_type": "stream",
     "text": [
      "Olá, Debora, você tem 21 anos e mede 1.62 metros!\n"
     ]
    }
   ],
   "source": [
    "nome = str(input('Digite o seu nome: '))\n",
    "idade = int(input('Digite a sua idade: '))\n",
    "altura = float(input('Digite sua altura (em metros)'))\n",
    "print(f'Olá, {nome}, você tem {idade} anos e mede {altura} metros!')"
   ]
  },
  {
   "cell_type": "markdown",
   "metadata": {
    "id": "mEBFwKkC70KP"
   },
   "source": [
    "### Calculadora com operadores"
   ]
  },
  {
   "cell_type": "markdown",
   "metadata": {
    "id": "H-IV1oAPPSqK"
   },
   "source": [
    "#### Questão 1\n",
    "\n",
    "Crie um programa que solicite dois valores numéricos à pessoa usuária e imprima a soma dos dois valores."
   ]
  },
  {
   "cell_type": "code",
   "execution_count": 15,
   "metadata": {
    "id": "Zb0W84sy8rnp"
   },
   "outputs": [
    {
     "name": "stdout",
     "output_type": "stream",
     "text": [
      "8.6\n"
     ]
    }
   ],
   "source": [
    "n1 = float(input('Digite o primeiro valor: '))\n",
    "n2 = float(input('Digite o segundo valor: '))\n",
    "print(n1+n2)"
   ]
  },
  {
   "cell_type": "markdown",
   "metadata": {
    "id": "LUoi2MOu70Em"
   },
   "source": [
    "#### Questão 2\n",
    "Crie um programa que solicite três valores numéricos à pessoa usuária e imprima a soma dos três valores."
   ]
  },
  {
   "cell_type": "code",
   "execution_count": 16,
   "metadata": {
    "id": "4FYjWyBS8rDm"
   },
   "outputs": [
    {
     "name": "stdout",
     "output_type": "stream",
     "text": [
      "59.5\n"
     ]
    }
   ],
   "source": [
    "n1 = float(input('Digite o primeiro valor: '))\n",
    "n2 = float(input('Digite o segundo valor: '))\n",
    "n3 = float(input('Digite o terceiro valor: '))\n",
    "print(n1+n2+n3)"
   ]
  },
  {
   "cell_type": "markdown",
   "metadata": {
    "id": "lezGctF07z8i"
   },
   "source": [
    "#### Questão 3\n",
    "Crie um programa que solicite dois valores numéricos à pessoa usuária e imprima a subtração do primeiro pelo o segundo valor."
   ]
  },
  {
   "cell_type": "code",
   "execution_count": 18,
   "metadata": {
    "id": "k0GE1z4w8p3J"
   },
   "outputs": [
    {
     "name": "stdout",
     "output_type": "stream",
     "text": [
      "8.2\n"
     ]
    }
   ],
   "source": [
    "n1 = float(input('Digite o primeiro valor: '))\n",
    "n2 = float(input('Digite o segundo valor: '))\n",
    "print(n1-n2)"
   ]
  },
  {
   "cell_type": "markdown",
   "metadata": {
    "id": "wwMP-dPU7zxW"
   },
   "source": [
    "#### Questão 4\n",
    "\n",
    "Crie um programa que solicite dois valores numéricos à pessoa usuária e imprima a multiplicação dos dois valores.\n"
   ]
  },
  {
   "cell_type": "code",
   "execution_count": 19,
   "metadata": {
    "id": "GzFCVHfp8peZ"
   },
   "outputs": [
    {
     "name": "stdout",
     "output_type": "stream",
     "text": [
      "18.0\n"
     ]
    }
   ],
   "source": [
    "n1 = float(input('Digite o primeiro valor: '))\n",
    "n2 = float(input('Digite o segundo valor: '))\n",
    "print(n1*n2)"
   ]
  },
  {
   "cell_type": "markdown",
   "metadata": {
    "id": "9kxyHxUo7zRD"
   },
   "source": [
    "#### Questão 5\n",
    "\n",
    "Crie um programa que solicite dois valores numéricos, um numerador e um denominador, e realize a divisão entre os dois valores. Deixe claro que o valor do denominador não pode ser `0`.\n"
   ]
  },
  {
   "cell_type": "code",
   "execution_count": null,
   "metadata": {
    "id": "ytJ8l5KH8ozc"
   },
   "outputs": [
    {
     "name": "stdout",
     "output_type": "stream",
     "text": [
      "1.2\n"
     ]
    }
   ],
   "source": [
    "numerador = float(input('Digite o numerador: '))\n",
    "denominador = float(input('Digite o denominador (deve ser diferente de 0): '))\n",
    "\n",
    "if denominador == 0:\n",
    "    print('Erro: O denominador não pode ser 0.')\n",
    "else:\n",
    "    print(numerador / denominador)"
   ]
  },
  {
   "cell_type": "markdown",
   "metadata": {
    "id": "zkUSBTQq8Hxt"
   },
   "source": [
    "#### Questão 6\n",
    "\n",
    "Crie um programa que solicite dois valores numéricos, um operador e uma potência, e realize a exponenciação entre esses dois valores.\n"
   ]
  },
  {
   "cell_type": "code",
   "execution_count": 28,
   "metadata": {
    "id": "RPj36jq08oZp"
   },
   "outputs": [
    {
     "name": "stdout",
     "output_type": "stream",
     "text": [
      "36.0\n"
     ]
    }
   ],
   "source": [
    "base = float(input('Digite a base: '))\n",
    "expoente = float(input('Digite o expoente: '))\n",
    "print(base ** expoente)"
   ]
  },
  {
   "cell_type": "markdown",
   "metadata": {
    "id": "yiunIusZ8Huj"
   },
   "source": [
    "#### Questão 7\n",
    "Crie um programa que solicite dois valores numéricos, um numerador e um denominador e realize a divisão inteira entre os dois valores. Deixe claro que o valor do denominador não pode ser `0`."
   ]
  },
  {
   "cell_type": "code",
   "execution_count": 31,
   "metadata": {
    "id": "UHK8xITf8oCg"
   },
   "outputs": [
    {
     "name": "stdout",
     "output_type": "stream",
     "text": [
      "4\n"
     ]
    }
   ],
   "source": [
    "numerador = int(input('Digite o numerador: '))\n",
    "denominador = int(input('Digite o denominador (deve ser diferente de 0): '))\n",
    "\n",
    "if denominador == 0:\n",
    "    print('Erro: O denominador não pode ser 0.')\n",
    "else:\n",
    "    print(int(numerador / denominador))"
   ]
  },
  {
   "cell_type": "markdown",
   "metadata": {
    "id": "z_D_JiLX8Hra"
   },
   "source": [
    "#### Questão 8\n",
    "\n",
    "Crie um programa que solicite dois valores numéricos, um numerador e um denominador, e retorne o resto da divisão entre os dois valores. Deixe claro que o valor do denominador não pode ser `0`."
   ]
  },
  {
   "cell_type": "code",
   "execution_count": 34,
   "metadata": {
    "id": "EWGJeukO8nqx"
   },
   "outputs": [
    {
     "name": "stdout",
     "output_type": "stream",
     "text": [
      "1\n"
     ]
    }
   ],
   "source": [
    "numerador = int(input('Digite o numerador: '))\n",
    "denominador = int(input('Digite o denominador (deve ser diferente de 0): '))\n",
    "\n",
    "if denominador == 0:\n",
    "    print('Erro: O denominador não pode ser 0.')\n",
    "else:\n",
    "    print(numerador % denominador)"
   ]
  },
  {
   "cell_type": "markdown",
   "metadata": {
    "id": "RDRajNkU8N8N"
   },
   "source": [
    "#### Questão 9\n",
    "\n",
    "Crie um código que solicita 3 notas de um estudante e imprima a média das notas."
   ]
  },
  {
   "cell_type": "code",
   "execution_count": 35,
   "metadata": {
    "id": "H6F4Ojzt8nSR"
   },
   "outputs": [
    {
     "name": "stdout",
     "output_type": "stream",
     "text": [
      "7.866666666666667\n"
     ]
    }
   ],
   "source": [
    "n1 = float(input('Digite a nota 1: '))\n",
    "n2 = float(input('Digite a nota 2: '))\n",
    "n3 = float(input('Digite a nota 3: '))\n",
    "media = (n1+n2+n3)/3\n",
    "print(media)"
   ]
  },
  {
   "cell_type": "markdown",
   "metadata": {
    "id": "d7fjkne58N21"
   },
   "source": [
    "#### Questão 10\n",
    "\n",
    "Crie um código que calcule e imprima a média ponderada dos números 5, 12, 20 e 15 com pesos respectivamente iguais a 1, 2, 3 e 4."
   ]
  },
  {
   "cell_type": "code",
   "execution_count": 38,
   "metadata": {
    "id": "fwjoHlV48mkv"
   },
   "outputs": [
    {
     "name": "stdout",
     "output_type": "stream",
     "text": [
      "3.0\n"
     ]
    }
   ],
   "source": [
    "n1 = float(input('Digite o primeiro número: '))\n",
    "n2 = float(input('Digite o segundo número: '))\n",
    "n3 = float(input('Digite o terceiro número: '))\n",
    "n4 = float(input('Digite o quarto número: '))\n",
    "media = (n1*1 + n2*2 + n3*3 + n4*4) / (1 + 2 + 3 + 4)\n",
    "print(media)"
   ]
  },
  {
   "cell_type": "markdown",
   "metadata": {
    "id": "GNmbX1OU8N0V"
   },
   "source": [
    "### Editando textos"
   ]
  },
  {
   "cell_type": "markdown",
   "metadata": {
    "id": "6wZ85mCsRCV0"
   },
   "source": [
    "#### Questão 1\n",
    "\n",
    "Crie uma variável chamada “`frase`” e atribua a ela uma string de sua escolha. Em seguida, imprima a frase na tela."
   ]
  },
  {
   "cell_type": "code",
   "execution_count": 39,
   "metadata": {
    "id": "eRqr_gh-8mFy"
   },
   "outputs": [
    {
     "name": "stdout",
     "output_type": "stream",
     "text": [
      "Olá amigos!\n"
     ]
    }
   ],
   "source": [
    "frase = str('Olá amigos!')\n",
    "print(frase)"
   ]
  },
  {
   "cell_type": "markdown",
   "metadata": {
    "id": "Aac17z-18Nwv"
   },
   "source": [
    "#### Questão 2\n",
    "Crie um código que solicite uma frase e depois imprima a frase na tela."
   ]
  },
  {
   "cell_type": "code",
   "execution_count": 40,
   "metadata": {
    "id": "8zfE2hh98lb0"
   },
   "outputs": [
    {
     "name": "stdout",
     "output_type": "stream",
     "text": [
      "Boas festas!\n"
     ]
    }
   ],
   "source": [
    "frase = str(input('Digite uma frase: '))\n",
    "print(frase)"
   ]
  },
  {
   "cell_type": "markdown",
   "metadata": {
    "id": "DXVzqpN58Ntr"
   },
   "source": [
    "#### Questão 3\n",
    "\n",
    "Crie um código que solicite uma frase à pessoa usuária e imprima a mesma frase digitada mas com todas as letras maiúsculas."
   ]
  },
  {
   "cell_type": "code",
   "execution_count": 41,
   "metadata": {
    "id": "d0VzoYP68k-I"
   },
   "outputs": [
    {
     "name": "stdout",
     "output_type": "stream",
     "text": [
      "OLA\n"
     ]
    }
   ],
   "source": [
    "frase = str(input('Digite uma frase: '))\n",
    "print(frase.upper())"
   ]
  },
  {
   "cell_type": "markdown",
   "metadata": {
    "id": "I12VeNPK8Nqb"
   },
   "source": [
    "#### Questão 4\n",
    "\n",
    "Crie um código que solicite uma frase à pessoa usuária e imprima a mesma frase digitada mas com todas as letras minúsculas."
   ]
  },
  {
   "cell_type": "code",
   "execution_count": 42,
   "metadata": {
    "id": "KD8rNy2K8kox"
   },
   "outputs": [
    {
     "name": "stdout",
     "output_type": "stream",
     "text": [
      "ola amigos!\n"
     ]
    }
   ],
   "source": [
    "frase = str(input('Digite uma frase: '))\n",
    "print(frase.lower())"
   ]
  },
  {
   "cell_type": "markdown",
   "metadata": {
    "id": "cRqngSE48Nog"
   },
   "source": [
    "#### Questão 5\n",
    "\n",
    "Crie uma variável chamada “`frase`” e atribua a ela uma string de sua escolha. Em seguida, imprima a frase sem espaços em branco no início e no fim."
   ]
  },
  {
   "cell_type": "code",
   "execution_count": 43,
   "metadata": {
    "id": "aSCpdF-o8kBs"
   },
   "outputs": [
    {
     "name": "stdout",
     "output_type": "stream",
     "text": [
      "Seja bem-vindo ao nosso bairro!\n"
     ]
    }
   ],
   "source": [
    "frase = '  Seja bem-vindo ao nosso bairro! '\n",
    "print(frase.strip())"
   ]
  },
  {
   "cell_type": "markdown",
   "metadata": {
    "id": "murIazpQ8Nkv"
   },
   "source": [
    "#### Questão 6\n",
    "\n",
    "Crie um código que solicite uma frase à pessoa usuária e imprima a mesma frase sem espaços em branco no início e no fim."
   ]
  },
  {
   "cell_type": "code",
   "execution_count": 44,
   "metadata": {
    "id": "tHunjwuG8jNq"
   },
   "outputs": [
    {
     "name": "stdout",
     "output_type": "stream",
     "text": [
      "Desculpe-me, estou ocupada agora.\n"
     ]
    }
   ],
   "source": [
    "frase = str(input('Digite uma frase: '))\n",
    "print(frase.strip())"
   ]
  },
  {
   "cell_type": "markdown",
   "metadata": {
    "id": "eRxc2OeX8Nh2"
   },
   "source": [
    "#### Questão 7\n",
    "\n",
    "\n",
    "Crie um código que solicite uma frase à pessoa usuária e imprima a mesma frase sem espaços em branco no início e no fim e em letras minúsculas."
   ]
  },
  {
   "cell_type": "code",
   "execution_count": 46,
   "metadata": {
    "id": "DYm0_UwS8ih6"
   },
   "outputs": [
    {
     "name": "stdout",
     "output_type": "stream",
     "text": [
      "ESTOU ESCREVENDO ESSA FRASE EM LETRAS MINÚSCULAS.\n"
     ]
    }
   ],
   "source": [
    "frase = str(input('Digite uma frase: '))\n",
    "print(frase.strip().upper())"
   ]
  },
  {
   "cell_type": "markdown",
   "metadata": {
    "id": "UKATLavs8NfI"
   },
   "source": [
    "#### Questão 8\n",
    "\n",
    "Crie um código que solicite uma frase à pessoa usuária e imprima a mesma frase com todas as vogais “`e`” trocadas pela letra “`f`”."
   ]
  },
  {
   "cell_type": "code",
   "execution_count": 48,
   "metadata": {
    "id": "k64C5G5S8iLO"
   },
   "outputs": [
    {
     "name": "stdout",
     "output_type": "stream",
     "text": [
      "Estou fspfrando flf ainda hojf.\n"
     ]
    }
   ],
   "source": [
    "frase = str(input('Digite uma frase: '))\n",
    "print(frase.replace('e', 'f'))"
   ]
  },
  {
   "cell_type": "markdown",
   "metadata": {
    "id": "n_1SPchw8NdG"
   },
   "source": [
    "#### Questão 9\n",
    "\n",
    "\n",
    "Crie um código que solicite uma frase à pessoa usuária e imprima a mesma frase com todas as vogais “`a`” trocadas pela caractere  “`@`”."
   ]
  },
  {
   "cell_type": "code",
   "execution_count": 49,
   "metadata": {
    "id": "msaDNm_p8h0D"
   },
   "outputs": [
    {
     "name": "stdout",
     "output_type": "stream",
     "text": [
      "Doces @mor@s for@m colhid@s próxim@s @ ess@s árvores.\n"
     ]
    }
   ],
   "source": [
    "frase = str(input('Digite uma frase: '))\n",
    "print(frase.replace('a', '@'))"
   ]
  },
  {
   "cell_type": "markdown",
   "metadata": {
    "id": "H3sTTjqI8Naa"
   },
   "source": [
    "#### Questão 10\n",
    "\n",
    "\n",
    "Crie um código que solicite uma frase à pessoa usuária e imprima a mesma frase com todas as consoantes “`s`” trocadas pelo caractere  “`$`”."
   ]
  },
  {
   "cell_type": "code",
   "execution_count": 50,
   "metadata": {
    "id": "RPBIsWT68e-1"
   },
   "outputs": [
    {
     "name": "stdout",
     "output_type": "stream",
     "text": [
      "Sua$ palavra$ $ão muito $ábia$.\n"
     ]
    }
   ],
   "source": [
    "frase = str(input('Digite uma frase: '))\n",
    "print(frase.replace('s', '$'))"
   ]
  },
  {
   "cell_type": "markdown",
   "metadata": {
    "id": "XGePe4GD2I59"
   },
   "source": [
    "## Aula 3 - Estruturas condicionais"
   ]
  },
  {
   "cell_type": "markdown",
   "metadata": {
    "id": "Pr9HTW0UHCdD"
   },
   "source": [
    "### Aquecendo na programação"
   ]
  },
  {
   "cell_type": "markdown",
   "metadata": {
    "id": "xBZHqhVg80Fy"
   },
   "source": [
    "#### Questão 1\n",
    "Escreva um programa que peça à pessoa usuária para fornecer dois números e exibir o número maior."
   ]
  },
  {
   "cell_type": "code",
   "execution_count": 54,
   "metadata": {
    "id": "GJlGnzjc-xyF"
   },
   "outputs": [
    {
     "name": "stdout",
     "output_type": "stream",
     "text": [
      "O número maior é 9.0.\n"
     ]
    }
   ],
   "source": [
    "n1 = float(input('Digite o primeiro número: '))\n",
    "n2 = float(input('Digite o segundo número: '))\n",
    "\n",
    "if n1>n2:\n",
    "    print(f'O número maior é {n1}.')\n",
    "elif n1==n2:\n",
    "    print(f'Os números são iguais.')\n",
    "else:\n",
    "    print(f'O número maior é {n2}.')"
   ]
  },
  {
   "cell_type": "markdown",
   "metadata": {
    "id": "H4sgN7dyHNJF"
   },
   "source": [
    "#### Questão 2\n",
    "Escreva um programa que solicite o percentual de crescimento de produção de uma empresa e informe se houve um crescimento (porcentagem positiva) ou decrescimento (porcentagem negativa)."
   ]
  },
  {
   "cell_type": "code",
   "execution_count": 57,
   "metadata": {
    "id": "-2_Ry5XJ-yZW"
   },
   "outputs": [
    {
     "name": "stdout",
     "output_type": "stream",
     "text": [
      "Houve decrescimento na produção da empresa.\n"
     ]
    }
   ],
   "source": [
    "pCrescimento = float(input('Digite o percentual de crescimento da produção: '))\n",
    "\n",
    "if pCrescimento > 0:\n",
    "    print('Houve crescimento na produção da empresa.')\n",
    "elif pCrescimento == 0:\n",
    "    print('Percentual de crescimento nulo.')\n",
    "else:\n",
    "    print('Houve decrescimento na produção da empresa.')"
   ]
  },
  {
   "cell_type": "markdown",
   "metadata": {
    "id": "a_mzNOBDHNny"
   },
   "source": [
    "#### Questão 3\n",
    "Escreva um programa que determine se uma letra fornecida pela pessoa usuária é uma vogal ou consoante."
   ]
  },
  {
   "cell_type": "code",
   "execution_count": 72,
   "metadata": {},
   "outputs": [
    {
     "name": "stdout",
     "output_type": "stream",
     "text": [
      "É uma consoante.\n"
     ]
    }
   ],
   "source": [
    "letra = str(input('Digite uma letra: '))\n",
    "\n",
    "if letra == 'a' or letra == 'e' or letra == 'i' or letra == 'o' or letra == 'u':\n",
    "    print('É uma vogal')\n",
    "else:\n",
    "    print('É uma consoante.')"
   ]
  },
  {
   "cell_type": "markdown",
   "metadata": {
    "id": "mofMRjSZHP99"
   },
   "source": [
    "#### Questão 4\n",
    "Escreva um programa que leia valores médios de preços de um modelo de carro por 3 anos consecutivos e exiba o valor mais alto e mais baixo entre esses três anos."
   ]
  },
  {
   "cell_type": "code",
   "execution_count": 77,
   "metadata": {
    "id": "TX--d3k9-02c"
   },
   "outputs": [
    {
     "name": "stdout",
     "output_type": "stream",
     "text": [
      "O valor mais alto entre esses três anos para o modelo do carro é 158.0.\n",
      "Já o valor mais baixo é 12.0.\n"
     ]
    }
   ],
   "source": [
    "v1 = float(input('Digite o valor médio do ano 1: '))\n",
    "v2 = float(input('Digite o valor médio do ano 2: '))\n",
    "v3 = float(input('Digite o valor médio do ano 3: '))\n",
    "\n",
    "if v1 > v2 and v1 > v3:\n",
    "    valorAlto = v1\n",
    "elif v2 > v1 and v2 > v3:\n",
    "    valorAlto = v2\n",
    "else:\n",
    "    valorAlto = v3\n",
    "\n",
    "if v1 < v2 and v1 < v3:\n",
    "    valorBaixo = v1\n",
    "elif v2 < v1 and v2 < v3:\n",
    "    valorBaixo = v2\n",
    "else:\n",
    "    valorBaixo = v3    \n",
    "\n",
    "print(f'O valor mais alto entre esses três anos para o modelo do carro é {valorAlto}.\\nJá o valor mais baixo é {valorBaixo}.')"
   ]
  },
  {
   "cell_type": "markdown",
   "metadata": {
    "id": "jY5tIwd-HQzc"
   },
   "source": [
    "#### Questão 5\n",
    "Escreva um programa que pergunte sobre o preço de três produtos e indique qual é o produto mais barato para comprar."
   ]
  },
  {
   "cell_type": "code",
   "execution_count": 80,
   "metadata": {
    "id": "sYqNh9df-0gk"
   },
   "outputs": [
    {
     "name": "stdout",
     "output_type": "stream",
     "text": [
      "O produto 3 é o mais barato com preço de 18.0.\n"
     ]
    }
   ],
   "source": [
    "p1 = float(input('Digite o preço do produto 1: '))\n",
    "p2 = float(input('Digite o preço do produto 2: '))\n",
    "p3 = float(input('Digite o preço do produto 3: '))\n",
    "\n",
    "if p1 < p2 and p1 < p3:\n",
    "    menorPreco = p1 \n",
    "    produto = 1\n",
    "elif p2 < p1 and p2 < p3:\n",
    "    menorPreco = p2\n",
    "    produto = 2\n",
    "else:\n",
    "    menorPreco = p3\n",
    "    produto = 3\n",
    "\n",
    "print(f'O produto {produto} é o mais barato com preço de {menorPreco}.')"
   ]
  },
  {
   "cell_type": "markdown",
   "metadata": {
    "id": "1r6aVxtTHR4E"
   },
   "source": [
    "#### Questão 6\n",
    "Escreva um programa que leia três números e os exiba em ordem decrescente."
   ]
  },
  {
   "cell_type": "code",
   "execution_count": 81,
   "metadata": {
    "id": "ydOCYUMO-0Hk"
   },
   "outputs": [
    {
     "name": "stdout",
     "output_type": "stream",
     "text": [
      "Os números em ordem decrescente são: 5.0, 2.0, 1.0\n"
     ]
    }
   ],
   "source": [
    "num1 = float(input(\"Digite o primeiro número: \"))\n",
    "num2 = float(input(\"Digite o segundo número: \"))\n",
    "num3 = float(input(\"Digite o terceiro número: \"))\n",
    "\n",
    "if num1 >= num2 and num1 >= num3:\n",
    "    primeiro = num1\n",
    "    if num2 >= num3:\n",
    "        segundo = num2\n",
    "        terceiro = num3\n",
    "    else:\n",
    "        segundo = num3\n",
    "        terceiro = num2\n",
    "elif num2 >= num1 and num2 >= num3:\n",
    "    primeiro = num2\n",
    "    if num1 >= num3:\n",
    "        segundo = num1\n",
    "        terceiro = num3\n",
    "    else:\n",
    "        segundo = num3\n",
    "        terceiro = num1\n",
    "else:\n",
    "    primeiro = num3\n",
    "    if num1 >= num2:\n",
    "        segundo = num1\n",
    "        terceiro = num2\n",
    "    else:\n",
    "        segundo = num2\n",
    "        terceiro = num1\n",
    "\n",
    "print(f\"Os números em ordem decrescente são: {primeiro}, {segundo}, {terceiro}\")\n"
   ]
  },
  {
   "cell_type": "markdown",
   "metadata": {
    "id": "inW3F-hAHS_X"
   },
   "source": [
    "#### Questão 7\n",
    "Escreva um programa que pergunte em qual turno a pessoa usuária estuda (\"manhã\", \"tarde\" ou \"noite\") e exiba a mensagem \"Bom Dia!\", \"Boa Tarde!\", \"Boa Noite!\", ou \"Valor Inválido!\", conforme o caso."
   ]
  },
  {
   "cell_type": "code",
   "execution_count": 89,
   "metadata": {
    "id": "-_q-Pcr_-zth"
   },
   "outputs": [
    {
     "name": "stdout",
     "output_type": "stream",
     "text": [
      "Bom dia!\n"
     ]
    }
   ],
   "source": [
    "turno = str(input('Em que turno você estuda? Responda com manhã, tarde ou noite: '))\n",
    "\n",
    "if turno == 'manhã' or turno == 'Manhã':\n",
    "    print('Bom dia!')\n",
    "elif turno == 'tarde' or turno == 'Tarde':\n",
    "    print('Boa tarde!')\n",
    "elif turno == 'noite' or turno == 'Noite':\n",
    "    print('Boa noite!')\n",
    "else:\n",
    "    print('Valor Inválido!')"
   ]
  },
  {
   "cell_type": "markdown",
   "metadata": {
    "id": "NCCPF3QqHTw-"
   },
   "source": [
    "#### Questão 8\n",
    "Escreva um programa que peça um número inteiro à pessoa usuária e determine se ele é par ou ímpar. Dica: Você pode utilizar o operador módulo `%`."
   ]
  },
  {
   "cell_type": "code",
   "execution_count": 83,
   "metadata": {
    "id": "OmZJt1nQ-3e6"
   },
   "outputs": [
    {
     "name": "stdout",
     "output_type": "stream",
     "text": [
      "O número 3 é impar.\n"
     ]
    }
   ],
   "source": [
    "num = int(input(\"Digite um número: \"))\n",
    "resto = num % 2\n",
    "\n",
    "if resto == 0:\n",
    "    print(f'O número {num} é par.')\n",
    "else:\n",
    "    print(f'O número {num} é impar.')"
   ]
  },
  {
   "cell_type": "markdown",
   "metadata": {
    "id": "h93Ck1tQHUwE"
   },
   "source": [
    "#### Questão 9\n",
    "Escreva um programa que peça um número à pessoa usuária e informe se ele é inteiro ou decimal."
   ]
  },
  {
   "cell_type": "code",
   "execution_count": 93,
   "metadata": {
    "id": "sLMlZcx8-20N"
   },
   "outputs": [
    {
     "name": "stdout",
     "output_type": "stream",
     "text": [
      "Este número é inteiro.\n"
     ]
    }
   ],
   "source": [
    "num = float(input('Digite um número: '))\n",
    "\n",
    "if num.is_integer():\n",
    "    print('Este número é inteiro.')\n",
    "else:\n",
    "    print('Este número é decimal.')"
   ]
  },
  {
   "cell_type": "markdown",
   "metadata": {
    "id": "bKdXSK1SH_pF"
   },
   "source": [
    "### Momento dos projetos"
   ]
  },
  {
   "cell_type": "markdown",
   "metadata": {
    "id": "WBlEyyzsHV86"
   },
   "source": [
    "#### Questão 10\n",
    "Um programa deve ser escrito para ler dois números e, em seguida, perguntar à pessoa usuária qual operação ele deseja realizar. O resultado da operação deve incluir informações sobre o número - se é par ou ímpar, positivo ou negativo e inteiro ou decimal."
   ]
  },
  {
   "cell_type": "code",
   "execution_count": 3,
   "metadata": {
    "id": "3jmahZ0f-2gq"
   },
   "outputs": [
    {
     "name": "stdout",
     "output_type": "stream",
     "text": [
      "Erro: Divisão por zero não é permitida.\n",
      "O resultado da soma entre 6.0 e 0.0 é 8.7. Este número é ímpar, positivo e decimal.\n"
     ]
    }
   ],
   "source": [
    "n1 = float(input('Digite o primeiro número: '))\n",
    "n2 = float(input('Digite o segundo número: '))\n",
    "op = int(input('Digite o número correspondente à operação desejada:\\n1-Adição\\n2-Subtração\\n3-Multiplicação\\n4-Divisão\\n5-Exponenciação\\n6-Média\\n0-Sair'))\n",
    "\n",
    "# operações\n",
    "if op == 1:\n",
    "    resultado = n1 + n2\n",
    "    operacao = 'soma'\n",
    "elif op == 2:\n",
    "    resultado = n1 - n2\n",
    "    operacao = 'subtração'\n",
    "elif op == 3:\n",
    "    resultado = n1 * n2\n",
    "    operacao = 'multiplicação'\n",
    "elif op == 4:\n",
    "    if n2 != 0:\n",
    "        resultado = n1 / n2\n",
    "        operacao = 'divisão'\n",
    "    else:\n",
    "        print(\"Erro: Divisão por zero não é permitida.\")\n",
    "elif op == 5:\n",
    "    resultado = n1 ** n2\n",
    "    operacao = 'exponenciação'\n",
    "elif op == 6:\n",
    "    resultado = (n1 + n2)/2\n",
    "    operacao = 'média'\n",
    "\n",
    "# verificar se o número é par ou ímpar \n",
    "if (resultado % 2) == 0:\n",
    "    numParImpar = 'par' \n",
    "elif (resultado % 2) != 0:\n",
    "    numParImpar = 'ímpar' \n",
    "\n",
    "# verificar se o número é positivo ou negativo\n",
    "if resultado < 0:\n",
    "    numPosNeg = 'negativo'\n",
    "elif resultado == 0:\n",
    "    numPosNeg = 'nulo'\n",
    "else:\n",
    "    numPosNeg = 'positivo'\n",
    "\n",
    "# verificar se o número é inteiro ou decimal\n",
    "if resultado.is_integer():\n",
    "    numIntDec = 'inteiro'\n",
    "else:\n",
    "    numIntDec = 'decimal'\n",
    "\n",
    "# exibir o resultado\n",
    "print(f'O resultado da {operacao} entre {n1} e {n2} é {resultado}. Este número é {numParImpar}, {numPosNeg} e {numIntDec}.')"
   ]
  },
  {
   "cell_type": "markdown",
   "metadata": {
    "id": "VdnlULxHHW19"
   },
   "source": [
    "#### Questão 11\n",
    "Escreva um programa que peça à pessoa usuária três números que representam os lados de um triângulo. O programa deve informar se os valores podem ser utilizados para formar um triângulo e, caso afirmativo, se ele é equilátero, isósceles ou escaleno. Tenha em mente algumas dicas:\n",
    "- Três lados formam um triângulo quando a soma de quaisquer dos lados for maior que o terceiro;\n",
    "- Triângulo Equilátero: três lados iguais;\n",
    "- Triângulo Isósceles: quaisquer dos lados iguais;\n",
    "- Triângulo Escaleno: três lados diferentes;"
   ]
  },
  {
   "cell_type": "code",
   "execution_count": null,
   "metadata": {
    "id": "0z73sqUO-2Pw"
   },
   "outputs": [
    {
     "name": "stdout",
     "output_type": "stream",
     "text": [
      "Com as medidas 0.0, 0.0 e 6.0 para os lados, é possível formar um triângulo do tipo isósceles.\n"
     ]
    }
   ],
   "source": [
    "lado1 = float(input('Digite a medida do primeiro lado para o triângulo: '))\n",
    "lado2 = float(input('Digite a medida do segundo lado para o triângulo: '))\n",
    "lado3 = float(input('Digite a medida do terceiro lado para o triângulo: '))\n",
    "\n",
    "# verificar se pode formar um triângulo\n",
    "if (lado1 + lado2) > lado3:\n",
    "    triangulo = True\n",
    "elif (lado2 + lado3) > lado1:\n",
    "    triangulo = True\n",
    "elif (lado1 + lado3) > lado2:\n",
    "    triangulo = True \n",
    "elif lado1==0 or lado2==0 or lado3==0:\n",
    "    triangulo = False\n",
    "else:\n",
    "    triangulo = False\n",
    "\n",
    "# verificar o tipo de triângulo\n",
    "if triangulo == True:\n",
    "    if lado1 == lado2 == lado3:\n",
    "        tipoT = 'equilátero'\n",
    "    elif lado1 == lado2 or lado2 == lado3 or lado1 == lado3:\n",
    "        tipoT = 'isósceles'\n",
    "    elif lado1 != lado2 != lado3:\n",
    "        tipoT = 'escaleno'\n",
    "    print(f'Com as medidas {lado1}, {lado2} e {lado3} para os lados, é possível formar um triângulo do tipo {tipoT}.')\n",
    "elif triangulo == False:\n",
    "    print(f'Com as medidas {lado1}, {lado2} e {lado3} para os lados, não é possível formar um triângulo.')"
   ]
  },
  {
   "cell_type": "markdown",
   "metadata": {
    "id": "_PpEpOugHXwZ"
   },
   "source": [
    "#### Questão 12\n",
    "Um estabelecimento está vendendo combustíveis com descontos variados. Para o etanol, se a quantidade comprada for até 15 litros, o desconto será de 2% por litro. Caso contrário, será de 4% por litro. Para o diesel, se a quantidade comprada for até 15 litros, o desconto será de 3% por litro. Caso contrário, será de 5% por litro. O preço do litro de diesel é R\\$ 2,00 e o preço do litro de etanol é R\\$ 1,70. Escreva um programa que leia a quantidade de litros vendidos e o tipo de combustível (E para etanol e D para diesel) e calcule o valor a ser pago pelo cliente. Tenha em mente algumas dicas:\n",
    "\n",
    "- O do valor do desconto será a multiplicação entre preço do litro, quantidade de litros e o valor do desconto.\n",
    "- O valor a ser pago por um cliente será o resultado da multiplicação do preço do litro pela quantidade de litros menos o valor de desconto resultante do cálculo.\n"
   ]
  },
  {
   "cell_type": "code",
   "execution_count": 17,
   "metadata": {
    "id": "9izoF-0O-1yD"
   },
   "outputs": [
    {
     "name": "stdout",
     "output_type": "stream",
     "text": [
      "O total a ser pago é R$ 26.11.\n"
     ]
    }
   ],
   "source": [
    "quantL = float(input('Informe a quantidade de litros vendidos: '))\n",
    "tipo = str(input('Informe o tipo de combustível (digite E para etanol e D para diesel): '))\n",
    "\n",
    "# verificar o preço do tipo de combustível\n",
    "if tipo == 'E':\n",
    "    precoL = 1.70\n",
    "elif tipo == 'D':\n",
    "    precoL = 2.00\n",
    "\n",
    "# verificar o percentual de desconto do tipo de combustível\n",
    "if tipo == 'E':\n",
    "    if quantL <= 15.0:\n",
    "        pDesconto = 0.02\n",
    "    else:\n",
    "        pDesconto = 0.04\n",
    "elif tipo == 'D':\n",
    "    if quantL <= 15.0:\n",
    "        pDesconto = 0.03\n",
    "    else:\n",
    "        pDesconto = 0.05\n",
    "\n",
    "valorDesconto = precoL * quantL * pDesconto\n",
    "valorTotal = (precoL * quantL) - valorDesconto\n",
    "\n",
    "print(f'O total a ser pago é R$ {valorTotal:.2f}.')"
   ]
  },
  {
   "cell_type": "markdown",
   "metadata": {
    "id": "s_XS_D1WHY2R"
   },
   "source": [
    "#### Questão 13\n",
    "Em uma empresa de venda de imóveis você precisa criar um código que analise os dados de vendas anuais para ajudar a diretoria na tomada de decisão. O código precisa coletar os dados de quantidade de venda durante os anos de 2022 e 2023 e fazer um cálculo de variação percentual. A partir do valor da variação, deve ser enviada às seguintes sugestões:\n",
    "- Para variação acima de 20%: bonificação para o time de vendas.\n",
    "- Para variação entre 2% e 20%: pequena bonificação para time de vendas.\n",
    "- Para variação entre 2% e -10%: planejamento de políticas de incentivo às vendas.\n",
    "- Para bonificações abaixo de -10%: corte de gastos.\n"
   ]
  },
  {
   "cell_type": "code",
   "execution_count": 21,
   "metadata": {
    "id": "avQrYlUg-w8f"
   },
   "outputs": [
    {
     "name": "stdout",
     "output_type": "stream",
     "text": [
      "Ocorreu uma variação de 0.50% entre as vendas de 2022 e 2023. Sugere-se efetuar um planejamento de políticas de incentivo às vendas.\n"
     ]
    }
   ],
   "source": [
    "vendasAno1 = int(input('Informe a quantidade de vendas do ano de 2022: '))\n",
    "vendasAno2 = int(input('Informe a quantidade de vendas do ano de 2023: '))\n",
    "\n",
    "# cálculo de variação percentual \n",
    "variacao_percentual = ((vendasAno2 - vendasAno1) / vendasAno1)  * 100  \n",
    "\n",
    "# exibir sugestões para tomada de decisão de acordo com a variação percentual\n",
    "if variacao_percentual > 20:\n",
    "    print(f'Ocorreu uma variação de {variacao_percentual:.2f}% entre as vendas de 2022 e 2023. Sugere-se efetuar uma bonificação para o time de vendas.')\n",
    "elif variacao_percentual <= 20 and variacao_percentual > 2:\n",
    "    print(f'Ocorreu uma variação de {variacao_percentual:.2f}% entre as vendas de 2022 e 2023. Sugere-se efetuar uma pequena bonificação para o time de vendas.')\n",
    "elif variacao_percentual <= 2 and variacao_percentual >= (-10):\n",
    "    print(f'Ocorreu uma variação de {variacao_percentual:.2f}% entre as vendas de 2022 e 2023. Sugere-se efetuar um planejamento de políticas de incentivo às vendas.')\n",
    "elif variacao_percentual < (-10):\n",
    "    print(f'Ocorreu uma variação de {variacao_percentual:.2f}% entre as vendas de 2022 e 2023. Sugere-se efetuar um corte de gastos.')"
   ]
  },
  {
   "cell_type": "markdown",
   "metadata": {
    "id": "AuaWh4-d2Itt"
   },
   "source": [
    "## Aula 4 - Estruturas de repetição"
   ]
  },
  {
   "cell_type": "markdown",
   "metadata": {
    "id": "6MSqU0sIJRdD"
   },
   "source": [
    "### Aquecendo na programação"
   ]
  },
  {
   "cell_type": "markdown",
   "metadata": {
    "id": "9eGGyCnAJRdQ"
   },
   "source": [
    "#### Questão 1\n",
    "Escreva um programa que peça dois números inteiros e imprima todos os números inteiros entre eles."
   ]
  },
  {
   "cell_type": "code",
   "execution_count": 27,
   "metadata": {
    "id": "ID1oc1hxJRdQ"
   },
   "outputs": [
    {
     "name": "stdout",
     "output_type": "stream",
     "text": [
      "Os números são iguais: 6\n"
     ]
    }
   ],
   "source": [
    "n1 = int(input('Digite o 1° número inteiro: '))\n",
    "n2 = int(input('Digite o 2° número inteiro: '))\n",
    "\n",
    "if n1 < n2:\n",
    "    i = n1\n",
    "    while i <= n2:\n",
    "        print(i)\n",
    "        i += 1\n",
    "elif n1 > n2:\n",
    "    i = n1\n",
    "    while i >= n2:\n",
    "        print(i)\n",
    "        i -= 1\n",
    "else:\n",
    "    print(f\"Os números são iguais: {n1}\")\n"
   ]
  },
  {
   "cell_type": "markdown",
   "metadata": {
    "id": "mGonEHYCJRdR"
   },
   "source": [
    "#### Questão 2\n",
    "Escreva um programa para calcular quantos dias levará para a colônia de uma bactéria A ultrapassar ou igualar a colônia de uma bactéria B, com base nas taxas de crescimento de 3% e 1,5% respectivamente. Considere que a colônia A inicia com 4 elementos e a colônia B com 10 elementos."
   ]
  },
  {
   "cell_type": "code",
   "execution_count": 29,
   "metadata": {
    "id": "wM6FJuoqJRdR"
   },
   "outputs": [
    {
     "name": "stdout",
     "output_type": "stream",
     "text": [
      "A colônia A ultrapassará ou igualará a colônia B em 63 dias.\n",
      "População final da colônia A: 25.75\n",
      "População final da colônia B: 25.55\n"
     ]
    }
   ],
   "source": [
    "elementosA = 4\n",
    "elementosB = 10\n",
    "taxaA = 0.03\n",
    "taxaB = 0.015\n",
    "dias = 0\n",
    "\n",
    "while elementosA < elementosB:\n",
    "    elementosA += elementosA * taxaA\n",
    "    elementosB += elementosB * taxaB\n",
    "    dias += 1\n",
    "\n",
    "print(f\"A colônia A ultrapassará ou igualará a colônia B em {dias} dias.\")\n",
    "print(f\"População final da colônia A: {elementosA:.2f}\")\n",
    "print(f\"População final da colônia B: {elementosB:.2f}\")"
   ]
  },
  {
   "cell_type": "markdown",
   "metadata": {
    "id": "UiOZRlqoJRdR"
   },
   "source": [
    "#### Questão 3\n",
    "Para tratar uma quantidade de 15 dados de avaliações de pessoas usuárias de um serviço da empresa, precisamos verificar se as notas são válidas. Então, escreva um programa que vai receber a nota de 0 a 5 de todos os dados e verificar se é um valor válido. Caso seja inserido uma nota acima de 5 ou abaixo de 0, repita até que a pessoa usuária insira um valor válido."
   ]
  },
  {
   "cell_type": "code",
   "execution_count": null,
   "metadata": {
    "id": "3TUAhCxcJRdR"
   },
   "outputs": [
    {
     "name": "stdout",
     "output_type": "stream",
     "text": [
      "Avaliação n°1 enviada com sucesso. Nota: 0\n",
      "Avaliação n°2 enviada com sucesso. Nota: 2\n",
      "Nota inválida (você inseriu 9). Para avaliar, insira um número entre 0 e 5.\n",
      "Avaliação n°3 enviada com sucesso. Nota: 2\n"
     ]
    }
   ],
   "source": [
    "# inicializando a variável de contagem\n",
    "avaliacao = 1\n",
    "# a variável abaixo irá guardar a quantidade de usuários que responderão à pesquisa. No caso deste exercício, seria 15\n",
    "totalAvaliacao = int(input('Insira a quantidade de usuários que responderão à pesquisa: '))\n",
    "\n",
    "while avaliacao <= totalAvaliacao:\n",
    "    nota = int(input('Avalie o serviço com um número de 0 a 5: '))\n",
    "\n",
    "    if nota < 0 or nota > 5:\n",
    "        print(f'Nota inválida (você inseriu {nota}). Para avaliar, insira um número entre 0 e 5.')\n",
    "    else:\n",
    "        print(f'Avaliação n°{avaliacao} enviada com sucesso. Nota: {nota}')\n",
    "        avaliacao += 1"
   ]
  },
  {
   "cell_type": "markdown",
   "metadata": {
    "id": "ABv3KObGJRdR"
   },
   "source": [
    "#### Questão 4\n",
    "Desenvolva um programa que leia um conjunto indeterminado de temperaturas em Celsius e faça uma análise. Portanto, escreva um programa que leia temperaturas e informe a média delas. A leitura deve ser encerrada ao ser enviado o valor -273°C."
   ]
  },
  {
   "cell_type": "code",
   "execution_count": 7,
   "metadata": {
    "id": "85tBBj5KJRdS"
   },
   "outputs": [
    {
     "name": "stdout",
     "output_type": "stream",
     "text": [
      "Digite as temperaturas em Celsius (digite -273 para encerrar):\n",
      "A média das temperaturas informadas é 72.25°C.\n"
     ]
    }
   ],
   "source": [
    "# inicializando as variáveis\n",
    "soma_temperaturas = 0\n",
    "contador = 0\n",
    "\n",
    "print(\"Digite as temperaturas em Celsius (digite -273 para encerrar):\")\n",
    "\n",
    "# laço para leitura das temperaturas\n",
    "while True:\n",
    "    temperatura = float(input(f\"Temperatura {contador + 1}: \"))\n",
    "    \n",
    "    # verifica se é o valor para encerrar\n",
    "    if temperatura == -273:\n",
    "        break\n",
    "    \n",
    "    # acumula as temperaturas e incrementa o contador\n",
    "    soma_temperaturas += temperatura\n",
    "    contador += 1\n",
    "\n",
    "# calcula e exibe a média, se houverem temperaturas válidas\n",
    "if contador > 0:\n",
    "    media = soma_temperaturas / contador\n",
    "    print(f\"A média das temperaturas informadas é {media:.2f}°C.\")\n",
    "else:\n",
    "    print(\"Nenhuma temperatura válida foi informada.\")"
   ]
  },
  {
   "cell_type": "markdown",
   "metadata": {
    "id": "IjkbAfGcJRdS"
   },
   "source": [
    "#### Questão 5\n",
    "Escreva um programa que calcule o fatorial de um número inteiro fornecido pela pessoa usuária. O fatorial de um número inteiro é a multiplicação desse número por todos os seus antecessores até o número 1. Por exemplo, o fatorial de 5 é 5 x 4 x 3 x 2 x 1 = 120."
   ]
  },
  {
   "cell_type": "code",
   "execution_count": null,
   "metadata": {
    "id": "7RTH8o0HJRdS"
   },
   "outputs": [
    {
     "name": "stdout",
     "output_type": "stream",
     "text": [
      "O fatorial de 5 é 120.\n"
     ]
    }
   ],
   "source": [
    "num = int(input('Digite um número inteiro para calcular seu fatorial: '))\n",
    "fatorial = 1\n",
    "\n",
    "for i in range(1,(num+1),1):\n",
    "    fatorial = fatorial * i   # multiplica o valor atual de fatorial pelo índice\n",
    "\n",
    "print(f'O fatorial de {num} é {fatorial}.')"
   ]
  },
  {
   "cell_type": "markdown",
   "metadata": {
    "id": "oGNKuQjsJRdT"
   },
   "source": [
    "### Momento dos projetos"
   ]
  },
  {
   "cell_type": "markdown",
   "metadata": {
    "id": "ODxaTUYmJRdS"
   },
   "source": [
    "#### Questão 6\n",
    "Escreva um programa que gere a tabuada de um número inteiro de 1 a 10, de acordo com a escolha da pessoa usuária. Como exemplo, para o número 2, a tabuada deve ser mostrada no seguinte formato:\n",
    "```\n",
    "Tabuada do 2:\n",
    "2 x 1 = 2\n",
    "2 x 2 = 4\n",
    "[...]\n",
    "2 x 10 = 20\n",
    "```"
   ]
  },
  {
   "cell_type": "code",
   "execution_count": 16,
   "metadata": {
    "id": "lkTlbxPIJRdS"
   },
   "outputs": [
    {
     "name": "stdout",
     "output_type": "stream",
     "text": [
      "Tabuada do 3:\n",
      "3 x 1 = 3\n",
      "3 x 2 = 6\n",
      "3 x 3 = 9\n",
      "3 x 4 = 12\n",
      "3 x 5 = 15\n",
      "3 x 6 = 18\n",
      "3 x 7 = 21\n",
      "3 x 8 = 24\n",
      "3 x 9 = 27\n",
      "3 x 10 = 30\n"
     ]
    }
   ],
   "source": [
    "num = int(input('Digite um número inteiro de 1 a 10 para calcular sua tabuada: '))\n",
    "\n",
    "print(f'Tabuada do {num}:')\n",
    "\n",
    "for i in range(1,11,1):\n",
    "    print(f'{num} x {i} = {num*i}')"
   ]
  },
  {
   "cell_type": "markdown",
   "metadata": {
    "id": "LeIbnt8VJRdS"
   },
   "source": [
    "#### Questão 7\n",
    "Os números primos possuem várias aplicações dentro da Ciência de Dados, por exemplo, na criptografia e segurança. Um número primo é aquele que é divisível apenas por um e por ele mesmo. Faça um programa que peça um número inteiro e determine se ele é ou não um número primo."
   ]
  },
  {
   "cell_type": "code",
   "execution_count": null,
   "metadata": {
    "id": "2rcNU7twJRdS"
   },
   "outputs": [],
   "source": []
  },
  {
   "cell_type": "markdown",
   "metadata": {
    "id": "QTwb6QaCJRdT"
   },
   "source": [
    "#### Questão 8\n",
    "Vamos entender a distribuição de idades de pensionistas de uma empresa de previdência. Escreva um programa que leia as idades de uma quantidade não informada de clientes e mostre a distribuição em intervalos de [0-25], [26-50], [51-75] e [76-100]. Encerre a entrada de dados com um número negativo."
   ]
  },
  {
   "cell_type": "code",
   "execution_count": null,
   "metadata": {
    "id": "4IAhaDmYJRdT"
   },
   "outputs": [],
   "source": []
  },
  {
   "cell_type": "markdown",
   "metadata": {
    "id": "soJCQVwRJRdT"
   },
   "source": [
    "#### Questão 9\n",
    "Em uma eleição para gerência em uma empresa com 20 funcionários, existem quatro candidatos. Escreva um programa que calcule o vencedor da eleição. A votação ocorreu da seguinte maneira:\n",
    "- Cada funcionário votou em um dos quatro candidatos (representados pelos números 1, 2, 3 e 4).\n",
    "- Também foram contabilizados os votos nulos (representado pelo número 5) e os votos em branco (representado pelo número 6).\n",
    "\n",
    "Ao final da votação, o programa deve exibir o total de votos para cada candidato, o número de votos nulos e o número de votos em branco. Além disso, deve calcular e exibir a porcentagem de votos nulos em relação ao total de votos e a porcentagem de votos em branco em relação ao total de votos."
   ]
  },
  {
   "cell_type": "code",
   "execution_count": null,
   "metadata": {
    "id": "041EFrgG-4gR"
   },
   "outputs": [],
   "source": []
  },
  {
   "cell_type": "markdown",
   "metadata": {
    "id": "eijHQiNU2IZ7"
   },
   "source": [
    "## Aula 5 - Estruturas de dados"
   ]
  },
  {
   "cell_type": "markdown",
   "metadata": {
    "id": "92F0bKtBMgd7"
   },
   "source": [
    "### Aquecendo na programação"
   ]
  },
  {
   "cell_type": "markdown",
   "metadata": {
    "id": "IypX2ANuMgeC"
   },
   "source": [
    "#### Questão 1\n",
    "Faça um programa que tenha a seguinte lista contendo os valores de gastos de uma empresa de papel `[2172.54, 3701.35, 3518.09, 3456.61, 3249.38, 2840.82, 3891.45, 3075.26, 2317.64, 3219.08]`. Com esses valores, faça um programa que calcule a média de gastos. Dica, use as funções built-in [`sum()`](https://docs.python.org/3/library/functions.html#sum) e [`len()`](https://docs.python.org/3/library/functions.html#len)."
   ]
  },
  {
   "cell_type": "code",
   "execution_count": null,
   "metadata": {
    "id": "ge3LuFhLMgeD"
   },
   "outputs": [],
   "source": []
  },
  {
   "cell_type": "markdown",
   "metadata": {
    "id": "xrOeLhQkMgeD"
   },
   "source": [
    "#### Questão 2\n",
    " Com os mesmos dados da questão anterior, defina quantas compras foram acima de 3000 reais e calcule a porcentagem quanto ao total de compras."
   ]
  },
  {
   "cell_type": "code",
   "execution_count": null,
   "metadata": {
    "id": "Ygu5TMZyMgeD"
   },
   "outputs": [],
   "source": []
  },
  {
   "cell_type": "markdown",
   "metadata": {
    "id": "JgCOrE_BMgeD"
   },
   "source": [
    "#### Questão 3\n",
    "Faça um código que colete em uma lista 5 números inteiros quaisquer e imprima a lista. Exemplo: `[1,4,7,2,4]`."
   ]
  },
  {
   "cell_type": "code",
   "execution_count": null,
   "metadata": {
    "id": "vtM9O1hLMgeD"
   },
   "outputs": [],
   "source": []
  },
  {
   "cell_type": "markdown",
   "metadata": {
    "id": "p3bTp88HMgeD"
   },
   "source": [
    "#### Questão 4\n",
    "Colete novamente 5 inteiros e imprima a lista em ordem inversa à enviada."
   ]
  },
  {
   "cell_type": "code",
   "execution_count": null,
   "metadata": {
    "id": "-CGwMIyHMgeD"
   },
   "outputs": [],
   "source": []
  },
  {
   "cell_type": "markdown",
   "metadata": {
    "id": "eIXd_z1lMgeD"
   },
   "source": [
    "#### Questão 5\n",
    "Faça um programa que, ao inserir um número qualquer, criará uma lista contendo todos os números primos entre 1 e o número digitado."
   ]
  },
  {
   "cell_type": "code",
   "execution_count": null,
   "metadata": {
    "id": "rj_6GHstMgeE"
   },
   "outputs": [],
   "source": []
  },
  {
   "cell_type": "markdown",
   "metadata": {
    "id": "zrbz3ENlMgeE"
   },
   "source": [
    "#### Questão 6\n",
    "Escreva um programa que peça uma data informando o dia, mês e ano e determine se ela é uma data válida para uma análise."
   ]
  },
  {
   "cell_type": "code",
   "execution_count": null,
   "metadata": {
    "id": "0eYA8UjTMgeE"
   },
   "outputs": [],
   "source": []
  },
  {
   "cell_type": "markdown",
   "metadata": {
    "id": "ut_4VHdGMgeE"
   },
   "source": [
    "### Momento dos projetos"
   ]
  },
  {
   "cell_type": "markdown",
   "metadata": {
    "id": "G86Z0vD_MgeE"
   },
   "source": [
    "#### Questão 7\n",
    "Para um estudo envolvendo o nível de multiplicação de bactérias em uma colônia, foi coletado o número de bactérias multiplicadas por dia, com base em um processo de duplicação diária e pode ser observado a seguir: `[1.2, 2.1, 3.3, 5.0, 7.8, 11.3, 16.6, 25.1, 37.8, 56.9]`. Tendo esses valores, faça um código que gere uma lista contendo o percentual de crescimento de bactérias por dia, comparando o número de bactérias em cada dia com o número de bactérias do dia anterior. Dica: para calcular o percentual de crescimento usamos a seguinte equação: `100 * (amostra_atual - amostra_passada) / (amostra_passada)`."
   ]
  },
  {
   "cell_type": "code",
   "execution_count": null,
   "metadata": {
    "id": "PXNO_CFkMgeE"
   },
   "outputs": [],
   "source": []
  },
  {
   "cell_type": "markdown",
   "metadata": {
    "id": "p4nxogpnMgeE"
   },
   "source": [
    "#### Questão 8\n",
    "Para uma seleção de produtos alimentícios, precisamos separar o conjunto de IDs dados por números inteiros, sabendo que os produtos com ID par são doces e os com ID ímpar são amargos. Monte um código que colete 10 IDs. Depois, calcule e mostre a quantidade de produtos doces e amargos."
   ]
  },
  {
   "cell_type": "code",
   "execution_count": null,
   "metadata": {
    "id": "WqjO2SZkMgeE"
   },
   "outputs": [],
   "source": []
  },
  {
   "cell_type": "markdown",
   "metadata": {
    "id": "t5OrLxV6MgeE"
   },
   "source": [
    "#### Questão 9\n",
    "Desenvolva um programa que informa a nota de um aluno de acordo com suas respostas. Ele deve pedir a resposta de um aluno para cada questão e é preciso verificar se a resposta foi igual ao gabarito. Cada questão vale um ponto e existem alternativas:  A, B, C ou D.\n",
    "```\n",
    "Gabarito da Prova:\n",
    "01 - D\n",
    "02 - A\n",
    "03 - C\n",
    "04 - B\n",
    "05 - A\n",
    "06 - D\n",
    "07 - C\n",
    "08 - C\n",
    "09 - A\n",
    "10 - B\n",
    "```"
   ]
  },
  {
   "cell_type": "code",
   "execution_count": null,
   "metadata": {
    "id": "ytIQDJrQMgeE"
   },
   "outputs": [],
   "source": []
  },
  {
   "cell_type": "markdown",
   "metadata": {
    "id": "aSBMzh-AMgeF"
   },
   "source": [
    "#### Questão 10\n",
    "Um instituto de meteorologia deseja fazer um estudo de temperatura média de cada mês do ano. Para isso, você precisa fazer um código que colete e armazene essas temperaturas médias em uma lista. Depois, calcule a média anual das temperaturas e mostre todas as temperaturas acima da média anual, e em que mês elas ocorreram, mostrando os meses por extenso: Janeiro, Fevereiro, etc."
   ]
  },
  {
   "cell_type": "code",
   "execution_count": null,
   "metadata": {
    "id": "ftj04s2uMgeF"
   },
   "outputs": [],
   "source": []
  },
  {
   "cell_type": "markdown",
   "metadata": {
    "id": "0X8S6s4jMgeF"
   },
   "source": [
    "#### Questão 11\n",
    "Uma empresa de e-commerce está interessada em analisar as vendas dos seus produtos. Os dados das vendas foram armazenados em um dicionário:\n",
    "```\n",
    "{'Produto A': 300, 'Produto B': 80, 'Produto C': 60,\n",
    " 'Produto D': 200, 'Produto E': 250, 'Produto F': 30}\n",
    "```\n",
    "Escreva um código que calcule o total de vendas e o produto mais vendido."
   ]
  },
  {
   "cell_type": "code",
   "execution_count": null,
   "metadata": {
    "id": "Xa3DJLtFMgeF"
   },
   "outputs": [],
   "source": []
  },
  {
   "cell_type": "markdown",
   "metadata": {
    "id": "nrEwf_1ZMgeF"
   },
   "source": [
    "#### Questão 12\n",
    "Uma pesquisa de mercado foi feita para decidir qual design de uma marca infantil mais agrada crianças. A pesquisa foi feita e o votos computados podem ser observados abaixo:\n",
    "```\n",
    "'''\n",
    "Tabela de votos da marca\n",
    "Design 1 - 1334 votos\n",
    "Design 2 - 982 votos\n",
    "Design 3 - 1751 votos\n",
    "Design 4 - 210 votos\n",
    "Design 5 - 1811 votos\n",
    "'''\n",
    "```\n",
    "Adapte os dados fornecidos a você para uma estrutura de dicionário e a partir dele, informe o design vencedor e a porcentagem de votos recebidos.\n"
   ]
  },
  {
   "cell_type": "code",
   "execution_count": null,
   "metadata": {
    "id": "MRPcGR-_MgeF"
   },
   "outputs": [],
   "source": []
  },
  {
   "cell_type": "markdown",
   "metadata": {
    "id": "HRTFFzKIMgeF"
   },
   "source": [
    "#### Questão 13\n",
    "Os funcionários de um setor da empresa que você trabalha vão receber um abono correspondente a 10% do seu salário devido ao ótimo desempenho do time. O setor financeiro solicitou sua ajuda para a verificação das consequências financeiras que esse abono irá gerar nos recursos. Assim, foi encaminhada para você uma lista com os salários que receberão o abono: `[1172, 1644, 2617, 5130, 5532, 6341, 6650, 7238, 7685, 7782, 7903]`. O abono de cada funcionário não pode ser inferior a 200. Em código, transforme cada um dos salários em chaves de um dicionário e o abono de cada salário no elemento. Depois, informe o total de gastos com o abono, quantos funcionários receberam o abono mínimo e qual o maior valor de abono fornecido.\n"
   ]
  },
  {
   "cell_type": "code",
   "execution_count": null,
   "metadata": {
    "id": "QsDSCua42bLB"
   },
   "outputs": [],
   "source": []
  },
  {
   "cell_type": "markdown",
   "metadata": {
    "id": "6dEXZEwjMlWy"
   },
   "source": [
    "#### Questão 14\n",
    "Uma equipe de cientistas de dados está estudando a diversidade biológica em uma floresta. A equipe fez a coleta de informações sobre o número de espécies de plantas e animais em cada área da floresta e armazenaram essas informações em um dicionário. Nele, a chave descreve a área dos dados e os valores nas listas correspondem às espécies de plantas e animais nas áreas, respectivamente.\n",
    "```\n",
    "{'Área Norte': [2819, 7236],\n",
    " 'Área Leste': [1440, 9492],\n",
    " 'Área Sul': [5969, 7496],\n",
    " 'Área Oeste': [14446, 49688],\n",
    " 'Área Centro': [22558, 45148]}\n",
    "```\n",
    "Escreva um código para calcular a média de espécies por área e identificar a área com a maior diversidade biológica. Dica: use as funções built-in [`sum()`](https://docs.python.org/3/library/functions.html#sum) e [`len()`](https://docs.python.org/3/library/functions.html#len).\n"
   ]
  },
  {
   "cell_type": "code",
   "execution_count": null,
   "metadata": {
    "id": "eQnOUDfYMlWy"
   },
   "outputs": [],
   "source": []
  },
  {
   "cell_type": "markdown",
   "metadata": {
    "id": "r0RW2Sy_MlWy"
   },
   "source": [
    "#### Questão 15\n",
    "O setor de RH da sua empresa te pediu uma ajuda para analisar as idades dos funcionários de 4 setores da empresa. Para isso, ele te forneceu os seguintes dados:\n",
    "```\n",
    "{'Setor A': [22, 26, 30, 30, 35, 38, 40, 56, 57, 65],\n",
    " 'Setor B': [22, 24, 26, 33, 41, 49, 50, 54, 60, 64],\n",
    " 'Setor C': [23, 26, 26, 29, 34, 35, 36, 41, 52, 56],\n",
    " 'Setor D': [19, 20, 25, 27, 34, 39, 42, 44, 50, 65]}\n",
    "``` \n",
    "Sabendo que cada setor tem 10 funcionários, construa um código que calcule a média de idade de cada setor, a idade média geral entre todos os setores e quantas pessoas estão acima da idade média geral.\n"
   ]
  },
  {
   "cell_type": "code",
   "execution_count": null,
   "metadata": {
    "id": "wCiwyKP3MmTz"
   },
   "outputs": [],
   "source": []
  }
 ],
 "metadata": {
  "colab": {
   "authorship_tag": "ABX9TyNAcHMa4C+Q6J7M1CkYm1Tn",
   "provenance": [],
   "toc_visible": true
  },
  "kernelspec": {
   "display_name": "venv",
   "language": "python",
   "name": "python3"
  },
  "language_info": {
   "codemirror_mode": {
    "name": "ipython",
    "version": 3
   },
   "file_extension": ".py",
   "mimetype": "text/x-python",
   "name": "python",
   "nbconvert_exporter": "python",
   "pygments_lexer": "ipython3",
   "version": "3.11.9"
  }
 },
 "nbformat": 4,
 "nbformat_minor": 0
}
